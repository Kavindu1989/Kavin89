{
 "cells": [
  {
   "cell_type": "markdown",
   "id": "e7923189",
   "metadata": {},
   "source": [
    "## Data Science Tools and Ecosystem"
   ]
  },
  {
   "cell_type": "markdown",
   "id": "fdc80e8e",
   "metadata": {},
   "source": [
    "In this notebook, Data Science Tools and Ecosystem are summarized."
   ]
  },
  {
   "cell_type": "markdown",
   "id": "7bf085ff",
   "metadata": {},
   "source": [
    "Some of the popular languages that Data Scientists use are:\n",
    "    Python\n",
    "    Java\n",
    "    R\n",
    "    Spark\n",
    "    Scala\n",
    "    Go"
   ]
  },
  {
   "cell_type": "markdown",
   "id": "d3759b53",
   "metadata": {},
   "source": [
    "Some of the popular languages that Data Scientists use are: \n",
    "1. Python \n",
    "2. Scala \n",
    "3. Go \n",
    "4. R"
   ]
  },
  {
   "cell_type": "markdown",
   "id": "b2003b07",
   "metadata": {},
   "source": [
    "Some of the commonly used libraries used by Data Scientists include:\n",
    "1. Pandas\n",
    "2. Numpy\n",
    "3. Tensor Flow\n"
   ]
  },
  {
   "cell_type": "markdown",
   "id": "9942be1e",
   "metadata": {},
   "source": [
    "| Data Science Tools |\n",
    "| ------------------ |\n",
    "| Pycharm |\n",
    "| Spider |\n",
    "| VS Code |"
   ]
  },
  {
   "cell_type": "markdown",
   "id": "ea758da4",
   "metadata": {},
   "source": [
    "### Below are a few examples of evaluating arithmetic expressions in Python"
   ]
  },
  {
   "cell_type": "code",
   "execution_count": 6,
   "id": "56f26d63",
   "metadata": {},
   "outputs": [
    {
     "data": {
      "text/plain": [
       "17"
      ]
     },
     "execution_count": 6,
     "metadata": {},
     "output_type": "execute_result"
    }
   ],
   "source": [
    "#This a simple arithmetic expression to mutiply then add integers\n",
    "(3*4)+5"
   ]
  },
  {
   "cell_type": "code",
   "execution_count": 7,
   "id": "d0396629",
   "metadata": {},
   "outputs": [
    {
     "data": {
      "text/plain": [
       "3.3333333333333335"
      ]
     },
     "execution_count": 7,
     "metadata": {},
     "output_type": "execute_result"
    }
   ],
   "source": [
    "#This will convert 200 minutes to hours by diving by 60\n",
    "200/60"
   ]
  },
  {
   "cell_type": "markdown",
   "id": "aa64015d",
   "metadata": {},
   "source": [
    "###### Objectives:\n",
    "List popular languages for Data Science\n",
    "- Python\n",
    "- Java\n",
    "- Scala\n",
    "- R\n",
    "- JS"
   ]
  },
  {
   "cell_type": "markdown",
   "id": "10bb68a3",
   "metadata": {},
   "source": [
    "## Author \n",
    "Kavindu Bandara"
   ]
  },
  {
   "cell_type": "code",
   "execution_count": null,
   "id": "39a5180e",
   "metadata": {},
   "outputs": [],
   "source": []
  }
 ],
 "metadata": {
  "celltoolbar": "Raw Cell Format",
  "kernelspec": {
   "display_name": "Python 3 (ipykernel)",
   "language": "python",
   "name": "python3"
  },
  "language_info": {
   "codemirror_mode": {
    "name": "ipython",
    "version": 3
   },
   "file_extension": ".py",
   "mimetype": "text/x-python",
   "name": "python",
   "nbconvert_exporter": "python",
   "pygments_lexer": "ipython3",
   "version": "3.10.11"
  }
 },
 "nbformat": 4,
 "nbformat_minor": 5
}
